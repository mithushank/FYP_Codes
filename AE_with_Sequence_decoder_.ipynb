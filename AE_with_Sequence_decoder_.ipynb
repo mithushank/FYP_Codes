{
  "nbformat": 4,
  "nbformat_minor": 0,
  "metadata": {
    "colab": {
      "provenance": [],
      "toc_visible": true,
      "authorship_tag": "ABX9TyOY1omC8mPF/ZNq+9ejRRwz",
      "include_colab_link": true
    },
    "kernelspec": {
      "name": "python3",
      "display_name": "Python 3"
    },
    "language_info": {
      "name": "python"
    }
  },
  "cells": [
    {
      "cell_type": "markdown",
      "metadata": {
        "id": "view-in-github",
        "colab_type": "text"
      },
      "source": [
        "<a href=\"https://colab.research.google.com/github/mithushank/FYP_Codes/blob/dev_autoencoder/AE_with_Sequence_decoder_.ipynb\" target=\"_parent\"><img src=\"https://colab.research.google.com/assets/colab-badge.svg\" alt=\"Open In Colab\"/></a>"
      ]
    },
    {
      "cell_type": "markdown",
      "source": [
        "# Libraries"
      ],
      "metadata": {
        "id": "Y3vBH3yOBlYs"
      }
    },
    {
      "cell_type": "code",
      "execution_count": 1,
      "metadata": {
        "id": "8xCUL62ObyvP"
      },
      "outputs": [],
      "source": [
        "#import libraries\n",
        "import tensorflow as tf\n",
        "from tensorflow import keras\n",
        "from tensorflow.keras import layers, models\n",
        "from tensorflow.keras.models import Model\n",
        "from keras.models import Sequential,Model\n",
        "from keras.layers import Dense\n",
        "from tensorflow.keras.optimizers import Adam,SGD\n",
        "from tensorflow.keras.losses import MeanSquaredError\n",
        "from tensorflow.keras.metrics import MeanSquaredError\n",
        "from tensorflow.keras.callbacks import Callback, TensorBoard, EarlyStopping\n",
        "from IPython.display import clear_output\n",
        "import datetime\n",
        "\n",
        "import numpy as np\n",
        "import math\n",
        "import matplotlib.pyplot as plt\n",
        "from scipy.signal import convolve"
      ]
    },
    {
      "cell_type": "markdown",
      "source": [
        "# variables"
      ],
      "metadata": {
        "id": "F_yfXe9jBpnm"
      }
    },
    {
      "cell_type": "code",
      "execution_count": 2,
      "metadata": {
        "id": "eTlEUj8iUBAJ"
      },
      "outputs": [],
      "source": [
        "Number_channel_uses = 1 # it defines the number of symbols per messages. at a time one symbol can be transmitted"
      ]
    },
    {
      "cell_type": "code",
      "execution_count": 3,
      "metadata": {
        "id": "OjYVqighRYIx"
      },
      "outputs": [],
      "source": [
        "Eb_No = 10  # This should be a variable so that it can be used in the dictionary\n",
        "from scipy.stats import truncnorm\n",
        "from scipy.stats import uniform\n",
        "channel_parameters = {\n",
        "    \"r\"        : 4,                # For upsampling -> number of complex samples per symbol\n",
        "    \"Eb_No\"    : Eb_No,            # Energy per bit to noise power spectral density ratio\n",
        "    \"roll_off\" : 0.35,             # Roll off factor\n",
        "    \"num_taps\" : 31,               # L -> Number of taps (odd) for RRC filter\n",
        "    \"f_s\"      : 25e4,             # Sampling frequency\n",
        "    \"T_bound\"  : 1/25e4,           # 1/f_s (symbol duration in seconds)\n",
        "    \"time_delay\" : np.random.uniform(-1,1),  # Random time delay in the range [-1, 1]\n",
        "    \"CFO\"      : 5e3,              # Carrier Frequency Offset in Hz\n",
        "    \"CFO_std\"  : 5e3/25e4,         # Normalized Carrier Frequency Offset\n",
        "    \"noise_std\": 10**(-1.0 * Eb_No / 10),  # Noise standard deviation, calculated from Eb_No\n",
        "    \"phase_off\": uniform.rvs(scale=2*np.pi)  # Random phase offset in the range [0, 2π]\n",
        "}"
      ]
    },
    {
      "cell_type": "markdown",
      "source": [
        "# stochasric channel layers"
      ],
      "metadata": {
        "id": "-Sw_2cb8CEyP"
      }
    },
    {
      "cell_type": "markdown",
      "source": [
        "## stc for single message transmission"
      ],
      "metadata": {
        "id": "fbs2lhS0CVUv"
      }
    },
    {
      "cell_type": "code",
      "source": [
        "class StochasticChannelv3(tf.keras.layers.Layer):\n",
        "    def __init__(self, roll_off=0.35, num_taps=31, time_delay=2, r=4, ts=.5e-6, **kwargs):\n",
        "        super(StochasticChannelv3, self).__init__(**kwargs)\n",
        "        self.num_taps = num_taps\n",
        "        self.time_delay = time_delay\n",
        "        self.r = r  # Upsampling factor\n",
        "        self.roll_off = roll_off  # Roll-off factor\n",
        "        self.ts = ts  # Sampling period (default is 1)\n",
        "\n",
        "    def upsampling(self, inp):\n",
        "        com_reshape = tf.reshape(inp, [-1, 1])\n",
        "        padding = tf.constant([[0, 0], [0, self.r - 1]])  # Access self.r\n",
        "        upsampled = tf.pad(com_reshape, padding, mode=\"CONSTANT\")\n",
        "        upsampled = tf.reshape(upsampled, [-1])  # Flatten back to 1D\n",
        "        print(upsampled.shape)\n",
        "        return upsampled\n",
        "\n",
        "    def upsample_iq(self, inp):\n",
        "        real = inp[:, 0]  # Real part\n",
        "        imag = inp[:, 1]  # Imaginary part\n",
        "\n",
        "        real_up = self.upsampling(real)\n",
        "        imag_up = self.upsampling(imag)\n",
        "\n",
        "        upsampled = tf.stack([real_up, imag_up], axis=1)\n",
        "        return upsampled\n",
        "\n",
        "    def rrc_filter(self):\n",
        "        t = np.linspace(-self.num_taps // 2, self.num_taps // 2 + 1, self.num_taps) - self.time_offset()\n",
        "        rrc = np.zeros_like(t)\n",
        "\n",
        "        for i in range(len(t)):\n",
        "            if t[i] == 0.0:\n",
        "                rrc[i] = (1.0 - self.roll_off + 4 * self.roll_off / np.pi) / self.ts\n",
        "            elif np.abs(t[i]) == self.ts / (4 * self.roll_off):\n",
        "                rrc[i] = (self.roll_off / (np.sqrt(2) * self.ts)) * \\\n",
        "                         ((1 + 2 / np.pi) * np.sin(np.pi / (4 * self.roll_off)) +\n",
        "                          (1 - 2 / np.pi) * np.cos(np.pi / (4 * self.roll_off)))\n",
        "            else:\n",
        "                rrc[i] = (np.sin(np.pi * (t[i] / self.ts) * (1 - self.roll_off)) +\n",
        "                          4 * self.roll_off * (t[i] / self.ts) * np.cos(np.pi * (t[i] / self.ts) * (1 + self.roll_off))) / \\\n",
        "                         (np.pi * t[i] * (1 - (4 * self.roll_off * (t[i] / self.ts)) ** 2))\n",
        "\n",
        "        rrc = rrc / np.sqrt(np.sum(rrc ** 2))\n",
        "        rrc = tf.constant(rrc, dtype=tf.float32)\n",
        "        return rrc\n",
        "\n",
        "    def upsample_and_filter(self, signal):\n",
        "        upsampled_signal = self.upsample_iq(signal)\n",
        "        rrc = self.rrc_filter()\n",
        "\n",
        "        upsampled_signal = tf.expand_dims(upsampled_signal, axis=0)  # Shape: (1, length, 2)\n",
        "        rrc = tf.reshape(rrc, [-1, 1, 1])  # Shape: (filter_length, 1, 1)\n",
        "\n",
        "        padding_size = self.num_taps // 2\n",
        "        paddings = tf.constant([[0, 0], [padding_size, padding_size], [0, 0]])\n",
        "        padded_real = tf.pad(upsampled_signal[:, :, 0:1], paddings, \"CONSTANT\")\n",
        "        padded_imag = tf.pad(upsampled_signal[:, :, 1:2], paddings, \"CONSTANT\")\n",
        "        upsampled_signal = tf.concat([padded_real, padded_imag], axis=2)\n",
        "        real_filtered = tf.nn.conv1d(upsampled_signal[:, :, 0:1], rrc, stride=1, padding='SAME')\n",
        "        imag_filtered = tf.nn.conv1d(upsampled_signal[:, :, 1:2], rrc, stride=1, padding='SAME')\n",
        "\n",
        "        filtered_signal = tf.concat([real_filtered, imag_filtered], axis=2)\n",
        "        filtered_signal = tf.squeeze(filtered_signal, axis=0)  # Remove the batch dimension\n",
        "        return filtered_signal\n",
        "\n",
        "    def time_offset(self, sampling_time=10):\n",
        "        t_offset = np.random.uniform(-sampling_time // 2, sampling_time // 2)\n",
        "        return t_offset\n",
        "\n",
        "    def call(self, inputs):\n",
        "        batch_size = tf.shape(inputs)[0]\n",
        "        f = inputs.shape[1] // 2\n",
        "\n",
        "        # Reshape to pairs of real and imaginary parts\n",
        "        inputs = tf.reshape(inputs, [batch_size, -1, 2])  # Shape: (batch_size, num_pairs, 2)\n",
        "\n",
        "        # Define a function to process each sample\n",
        "        def process_sample(sample):\n",
        "            filtered_signal = self.upsample_and_filter(sample)  # Process each sample\n",
        "            return filtered_signal\n",
        "\n",
        "        # Apply the function to each sample in the batch\n",
        "        output = tf.map_fn(process_sample, inputs, dtype=tf.float32)  # Shape: (batch_size, num_filtered_samples, 2)\n",
        "\n",
        "        # Reshape back to original shape if necessary\n",
        "        output = tf.reshape(output, [batch_size, -1])\n",
        "\n",
        "        return output"
      ],
      "metadata": {
        "id": "L3puH4JrZyCF"
      },
      "execution_count": null,
      "outputs": []
    },
    {
      "cell_type": "markdown",
      "source": [
        "## stc for cts transmission"
      ],
      "metadata": {
        "id": "__v_Diw4CH8K"
      }
    },
    {
      "cell_type": "code",
      "source": [
        "  \"\"\"\n",
        "  When using this make sure that batch size is divisible by 2*l+1\n",
        "  \"\"\"\n",
        "class StochasticChannelv3_cts_tr(tf.keras.layers.Layer):\n",
        "\n",
        "    def __init__(self, roll_off=0.35, num_taps=31, time_delay=2, r=4, ts=.5e-6,l = 6, **kwargs):\n",
        "        super(StochasticChannelv3_cts_tr, self).__init__(**kwargs)\n",
        "        self.num_taps = num_taps\n",
        "        self.time_delay = time_delay\n",
        "        self.r = r  # Upsampling factor\n",
        "        self.roll_off = roll_off  # Roll-off factor\n",
        "        self.ts = ts  # Sampling period (default is 1)\n",
        "        self.l = l\n",
        "\n",
        "    def upsampling(self, inp):\n",
        "        com_reshape = tf.reshape(inp, [-1, 1])\n",
        "        padding = tf.constant([[0, 0], [0, self.r - 1]])  # Access self.r\n",
        "        upsampled = tf.pad(com_reshape, padding, mode=\"CONSTANT\")\n",
        "        upsampled = tf.reshape(upsampled, [-1])  # Flatten back to 1D\n",
        "        return upsampled\n",
        "\n",
        "    def upsample_iq(self, inp):\n",
        "        real = inp[:, 0]  # Real part\n",
        "        imag = inp[:, 1]  # Imaginary part\n",
        "\n",
        "        real_up = self.upsampling(real)\n",
        "        imag_up = self.upsampling(imag)\n",
        "        upsampled = tf.stack([real_up, imag_up], axis=1)\n",
        "        return upsampled\n",
        "\n",
        "    def rrc_filter(self):\n",
        "        print(\"time offset for this task\", self.time_offset())\n",
        "        t = np.linspace(-self.num_taps // 2, self.num_taps // 2 + 1, self.num_taps) - self.time_offset()\n",
        "        rrc = np.zeros_like(t)\n",
        "\n",
        "        for i in range(len(t)):\n",
        "            if t[i] == 0.0:\n",
        "                rrc[i] = (1.0 - self.roll_off + 4 * self.roll_off / np.pi) / self.ts\n",
        "            elif np.abs(t[i]) == self.ts / (4 * self.roll_off):\n",
        "                rrc[i] = (self.roll_off / (np.sqrt(2) * self.ts)) * \\\n",
        "                         ((1 + 2 / np.pi) * np.sin(np.pi / (4 * self.roll_off)) +\n",
        "                          (1 - 2 / np.pi) * np.cos(np.pi / (4 * self.roll_off)))\n",
        "            else:\n",
        "                rrc[i] = (np.sin(np.pi * (t[i] / self.ts) * (1 - self.roll_off)) +\n",
        "                          4 * self.roll_off * (t[i] / self.ts) * np.cos(np.pi * (t[i] / self.ts) * (1 + self.roll_off))) / \\\n",
        "                         (np.pi * t[i] * (1 - (4 * self.roll_off * (t[i] / self.ts)) ** 2))\n",
        "\n",
        "        rrc = rrc / np.sqrt(np.sum(rrc ** 2))\n",
        "        rrc = tf.constant(rrc, dtype=tf.float32)\n",
        "        return rrc\n",
        "\n",
        "    def upsample_and_filter(self, signal):\n",
        "        upsampled_signal = self.upsample_iq(signal)\n",
        "        rrc = self.rrc_filter()\n",
        "\n",
        "\n",
        "        upsampled_signal = tf.expand_dims(upsampled_signal, axis=0)  # Shape: (1, length, 2)\n",
        "        rrc = tf.reshape(rrc, [-1, 1, 1])  # Shape: (filter_length, 1, 1)\n",
        "\n",
        "        padding_size = self.num_taps // 2\n",
        "        paddings = tf.constant([[0, 0], [padding_size, padding_size], [0, 0]])\n",
        "        padded_real = tf.pad(upsampled_signal[:, :, 0:1], paddings, \"CONSTANT\")\n",
        "        padded_imag = tf.pad(upsampled_signal[:, :, 1:2], paddings, \"CONSTANT\")\n",
        "        upsampled_signal = tf.concat([padded_real, padded_imag], axis=2)\n",
        "        real_filtered = tf.nn.conv1d(upsampled_signal[:, :, 0:1], rrc, stride=1, padding='SAME')\n",
        "        imag_filtered = tf.nn.conv1d(upsampled_signal[:, :, 1:2], rrc, stride=1, padding='SAME')\n",
        "\n",
        "        filtered_signal = tf.concat([real_filtered, imag_filtered], axis=2)\n",
        "        filtered_signal = tf.squeeze(filtered_signal, axis=0)  # Remove the batch dimension\n",
        "        return filtered_signal\n",
        "\n",
        "    def time_offset(self, sampling_time=10):\n",
        "        t_offset = np.random.uniform(-sampling_time // 2, sampling_time // 2)\n",
        "        return 0\n",
        "\n",
        "    def call(self, inputs):\n",
        "        batch_size = tf.shape(inputs)[0]\n",
        "        f = inputs.shape[1] // 2\n",
        "        beta = batch_size//(2*self.l+1)\n",
        "        out= []\n",
        "        for i in range(beta):\n",
        "          x = inputs[(2*self.l+1)*i:(2*self.l+1)*(i+1)]\n",
        "          # c = tf.concat(tf.unstack(x, axis=1), axis=0)  # Unstack along axis=1 and concatenate\n",
        "          out.append(x)\n",
        "        inputs = tf.stack(out, axis=0)\n",
        "\n",
        "        # Reshape to pairs of real and imaginary parts\n",
        "        inputs = tf.reshape(inputs, [batch_size//(2*self.l+1), -1, 2])  # Shape: (batch_size, num_pairs, 2)\n",
        "\n",
        "\n",
        "        # Define a function to process each sample\n",
        "        def process_sample(sample):\n",
        "            filtered_signal = self.upsample_and_filter(sample)  # Process each sample\n",
        "            return filtered_signal\n",
        "\n",
        "        # Apply the function to each sample in the batch\n",
        "        output = tf.map_fn(process_sample, inputs, dtype=tf.float32)  # Shape: (batch_size, num_filtered_samples, 2)\n",
        "\n",
        "        # Reshape back to original shape if necessary\n",
        "        output = tf.reshape(output, [batch_size//(2*self.l+1), -1])\n",
        "\n",
        "        return output\n",
        "\n",
        "    # def call(self, inputs):\n",
        "    #     batch_size = tf.shape(inputs)[0]\n",
        "    #     group_size = 2 * self.l + 1  # Define the group size\n",
        "\n",
        "    #     # Reshape inputs into groups of (2 * l + 1)\n",
        "    #     # This creates a tensor of shape (beta, group_size, input_dim)\n",
        "    #     beta = batch_size // group_size\n",
        "    #     # inputs = tf.reshape(inputs, [beta, group_size, -1])  # Reshape without a for loop\n",
        "    #     print('input shape before the sub grpups ',inputs.shape)\n",
        "    #     # Reshape to pairs of real and imaginary parts\n",
        "    #     inputs = tf.reshape(inputs, [beta, -1, 2])  # Shape: (batch_size, num_pairs, 2)\n",
        "\n",
        "    #     # need to create the window\n",
        "\n",
        "    #     # Define a function to process each sample\n",
        "    #     def process_sample(sample):\n",
        "    #         filtered_signal = self.upsample_and_filter(sample)  # Process each sample\n",
        "    #         return filtered_signal\n",
        "\n",
        "    #     # Apply the function to each sample in the batch using tf.map_fn\n",
        "    #     output = tf.map_fn(process_sample, inputs, dtype=tf.float32)\n",
        "\n",
        "\n",
        "    #     # Reshape back to original shape if necessary\n",
        "    #     output = tf.reshape(output, [beta, -1])\n",
        "    #     print('output shape after do the sub group', output.shape)\n",
        "\n",
        "    #     # # include slidcer to the model\n",
        "    #     # k1 = self.r * 4 + (self.num_taps + 1) // 2\n",
        "    #     # k2 = 2 * self.l * self.r * 4 + (self.num_taps - 1) // 2\n",
        "    #     # seq_len = k2 - k1 + 1\n",
        "    #     # print(f\"k1: {k1}, k2: {k2}, seq_len: {seq_len}\")\n",
        "    #     # output = output[:, k1:(k2+1)]\n",
        "    #     # print(output.shape)\n",
        "\n",
        "    #     return output\n",
        "\n",
        "    def call(self, inputs,return_offset=False):\n",
        "        batch_size = tf.shape(inputs)[0]\n",
        "        input_dim = tf.shape(inputs)[1]\n",
        "\n",
        "        # Ensure group_size divides batch_size evenly\n",
        "        group_size = 2 * self.l + 1  # e.g., 13\n",
        "        # if batch_size % group_size != 0:\n",
        "        #     raise ValueError(f\"Batch size ({batch_size}) must be divisible by group size ({group_size}).\")\n",
        "\n",
        "        # Reshape inputs into groups without changing the batch size\n",
        "        num_groups = batch_size // group_size\n",
        "        inputs = tf.reshape(inputs, [num_groups, group_size, input_dim])\n",
        "\n",
        "        # Merge group_size into the features dimension\n",
        "        inputs = tf.reshape(inputs, [batch_size // group_size, group_size * input_dim])\n",
        "\n",
        "        # Reshape to pairs of real and imaginary parts\n",
        "        inputs = tf.reshape(inputs, [batch_size // group_size, -1, 2])\n",
        "\n",
        "        # Define a function to process each sample\n",
        "        def process_sample(sample):\n",
        "            filtered_signal = self.upsample_and_filter(sample)\n",
        "            return filtered_signal\n",
        "\n",
        "        # Apply the function to each sample in the batch using tf.map_fn\n",
        "        output = tf.map_fn(process_sample, inputs, dtype=tf.float32)\n",
        "\n",
        "        # Reshape back to original batch size\n",
        "        output = tf.reshape(output, [batch_size // group_size, -1])\n",
        "\n",
        "        # Expand the output to match the original batch size\n",
        "        output = tf.tile(output, [group_size, 1])\n",
        "        print(output.shape)\n",
        "        batch_time_offset = self.time_offset()\n",
        "        # include slidcer to the model\n",
        "        k1 = self.r * 4 + (self.num_taps + 1) // 2\n",
        "        k2 = 2 * self.l * self.r * 4 + (self.num_taps - 1) // 2\n",
        "        seq_len = k2 - k1 + 1\n",
        "        print(f\"k1: {k1}, k2: {k2}, seq_len: {seq_len}\")\n",
        "        in_dim = output.shape[1]\n",
        "\n",
        "        output_1 = output[:, k1-1:k2]\n",
        "        output_2 = output[:, in_dim//2+k1-1:in_dim//2+k2]\n",
        "        print(output_1.shape)\n",
        "        print(output_2.shape)\n",
        "        output = tf.concat([output_1, output_2],axis = 1)\n",
        "        print(output.shape)\n",
        "        if return_offset:\n",
        "            # If we need to return the time offset (for training the offset estimator)\n",
        "            return output, batch_time_offset\n",
        "        else:\n",
        "            # If we're just passing through the autoencoder\n",
        "            return output\n",
        "        return output\n",
        "\n"
      ],
      "metadata": {
        "id": "h3gDIgDQbJsn"
      },
      "execution_count": 5,
      "outputs": []
    },
    {
      "cell_type": "markdown",
      "source": [
        "# Sequence Decoder"
      ],
      "metadata": {
        "id": "i0BVUN7dDs7l"
      }
    },
    {
      "cell_type": "code",
      "source": [
        "import tensorflow as tf\n",
        "from tensorflow.keras.layers import Dense\n",
        "from tensorflow.keras import Sequential\n",
        "\n",
        "class SD(tf.keras.layers.Layer):\n",
        "    def __init__(self, l=6, n=4, r=4, **kwargs):\n",
        "        super(SD, self).__init__(**kwargs)\n",
        "        self.l = l\n",
        "        self.n = n\n",
        "        self.r = r\n",
        "\n",
        "        with tf.name_scope(\"fe\"):\n",
        "            self.fe = Sequential([\n",
        "                Dense(256, activation='relu', name='initial'),\n",
        "                Dense(8, activation='linear', name='feature_extractor')\n",
        "            ])\n",
        "\n",
        "        with tf.name_scope(\"pe\"):\n",
        "            self.pe = Sequential([\n",
        "                Dense(256, activation='relu', name='initial'),\n",
        "                Dense(2, activation='linear', name='phase_estimator')\n",
        "            ])\n",
        "\n",
        "    def mini_slicer(self, inputs):\n",
        "        in_dim = tf.shape(inputs)[1]\n",
        "        N_msg = self.r * self.n\n",
        "        l1 = 1 + (self.l - 1) * N_msg - self.r\n",
        "        l2 = self.l * N_msg + self.r\n",
        "        out_1 = inputs[:, l1-1:l2]\n",
        "        out_2 = inputs[:, in_dim // 2 + l1-1:in_dim // 2 + l2]\n",
        "        output = tf.concat([out_1, out_2], axis=1)\n",
        "        print('mini slice output shape', output.shape)\n",
        "        return output\n",
        "\n",
        "    def call(self, inputs):\n",
        "        # Get the input dimension (before slicing)\n",
        "        in_dim = inputs.shape[1]\n",
        "\n",
        "        # Process the inputs using mini_slicer (this changes the shape of inputs)\n",
        "        inputs = self.mini_slicer(inputs)\n",
        "\n",
        "        # Update real and imag slices based on new input shape (after mini_slicer)\n",
        "        half_dim = tf.shape(inputs)[1] // 2  # Get new half dimension after slicing\n",
        "        real = inputs[:, :half_dim]  # First half of sliced inputs as real part\n",
        "        imag = inputs[:, half_dim:]  # Second half as imaginary part\n",
        "\n",
        "        # Pass the sliced inputs to the phase estimator model to get h\n",
        "        h = self.pe(inputs)  # h has shape (batch_size, 2)\n",
        "        h_real = h[:, 0]  # Extract real part of h\n",
        "        h_imag = h[:, 1]  # Extract imaginary part of h\n",
        "\n",
        "        h_real = tf.expand_dims(h_real, axis=1)\n",
        "        h_imag = tf.expand_dims(h_imag, axis=1)\n",
        "\n",
        "        # Perform element-wise multiplication\n",
        "        h_real_ex = tf.tile(h_real, [1, half_dim])\n",
        "        h_imag_ex = tf.tile(h_imag, [1, half_dim])\n",
        "        real_mul = real * h_real_ex  # Multiply same value of real part to every component of the input\n",
        "        imag_mul = imag * h_imag_ex\n",
        "\n",
        "        # Apply the feature extractor model to real_mul (as an example)\n",
        "        feature_extract_output = self.fe(inputs)\n",
        "\n",
        "        # Concatenate the outputs\n",
        "        output = tf.concat([real_mul, imag_mul, feature_extract_output], axis=1)\n",
        "\n",
        "        return output\n"
      ],
      "metadata": {
        "id": "GFG9mTC-_Nn1"
      },
      "execution_count": 6,
      "outputs": []
    },
    {
      "cell_type": "markdown",
      "source": [
        "## test for seq_decoder"
      ],
      "metadata": {
        "id": "TduLHEwpEDRx"
      }
    },
    {
      "cell_type": "code",
      "source": [
        "small = Model(inputs = autoencoder_model[0].get_layer('Input').input, outputs = autoencoder_model[0].get_layer('stc').output)\n",
        "enc = small(test_dataset[:13*12])\n",
        "out_sd = SD()\n",
        "out = out_sd(enc)\n",
        "print(out.shape)"
      ],
      "metadata": {
        "colab": {
          "base_uri": "https://localhost:8080/"
        },
        "id": "owqWXtdOrRni",
        "outputId": "3072ef1e-5117-4490-b404-ae0d22a79b65"
      },
      "execution_count": null,
      "outputs": [
        {
          "output_type": "stream",
          "name": "stdout",
          "text": [
            " Normalize each input power to 1,shape  (156, 8)\n",
            "time offset for this task 3\n",
            "time offset for this task 3\n",
            "time offset for this task 3\n",
            "time offset for this task 3\n",
            "time offset for this task 3\n",
            "time offset for this task 3\n",
            "time offset for this task 3\n",
            "time offset for this task 3\n",
            "time offset for this task 3\n",
            "time offset for this task 3\n",
            "time offset for this task 3\n",
            "time offset for this task 3\n",
            "(156, 476)\n",
            "k1: 32, k2: 207, seq_len: 176\n",
            "(156, 176)\n",
            "(156, 176)\n",
            "(156, 352)\n",
            "mini slice output shape (156, 48)\n",
            "mini slice output shape (156, 48)\n",
            "(156, 56)\n"
          ]
        }
      ]
    },
    {
      "cell_type": "markdown",
      "source": [
        "# Final Auto encoder combine with stc and sequence decoder"
      ],
      "metadata": {
        "id": "sWSwTsv_CgjB"
      }
    },
    {
      "cell_type": "markdown",
      "source": [
        "## Model with training"
      ],
      "metadata": {
        "id": "ekqZVXyBEL66"
      }
    },
    {
      "cell_type": "code",
      "execution_count": 7,
      "metadata": {
        "id": "uzN0ljm-PzO_",
        "collapsed": true,
        "colab": {
          "base_uri": "https://localhost:8080/",
          "height": 504
        },
        "outputId": "265181a0-f9ca-4dd0-ee91-31f6550576b2"
      },
      "outputs": [
        {
          "output_type": "display_data",
          "data": {
            "text/plain": [
              "<Figure size 1200x500 with 2 Axes>"
            ],
            "image/png": "[encoded data removed]"
          },
          "metadata": {}
        },
        {
          "output_type": "stream",
          "name": "stdout",
          "text": [
            "\b\b\b\b\b\b\b\b\b\b\b\b\b\b\b\b\b\b\b\b\b\b\b\b\b\b\b\b\b\b\b\b\b\b\b\b\b\b\b\b\b\b\b\b\b\b\b\b\b\b\b\b\b\b\b\b\b\b\b\b\b\b\b\b\b\b\b\b\b\b\b\b\b\b\b\r\u001b[1m320/320\u001b[0m \u001b[32m━━━━━━━━━━━━━━━━━━━━\u001b[0m\u001b[37m\u001b[0m \u001b[1m8s\u001b[0m 24ms/step - accuracy: 0.0619 - loss: 2.7733 - val_accuracy: 0.0625 - val_loss: 2.7733\n"
          ]
        }
      ],
      "source": [
        "\n",
        "\n",
        "# Dataset Parameters\n",
        "N = 4  # Number of channel uses\n",
        "M = 16  # Number of total messages that can be transmitted\n",
        "K = int(math.ceil(np.log2(M)))  # Block size\n",
        "l = 6\n",
        "Eb_No = 10\n",
        "batch_size = (2*l+1)*320\n",
        "\n",
        "# Create Dataset in one-hot vector\n",
        "alphabet_size = pow(2, K)\n",
        "alphabet = np.eye(alphabet_size, dtype='float32')\n",
        "\n",
        "train_dataset = np.tile(alphabet, (batch_size, 1))\n",
        "test_dataset = np.tile(alphabet, (batch_size * 10, 1))\n",
        "\n",
        "# Custom Callback for Real-time Plotting\n",
        "class PlottingCallback(Callback):\n",
        "    def __init__(self):\n",
        "        super(PlottingCallback, self).__init__()\n",
        "        self.history = {'accuracy': [], 'val_accuracy': [], 'loss': [], 'val_loss': []}\n",
        "\n",
        "    def on_epoch_end(self, epoch, logs=None):\n",
        "        # Update history\n",
        "        self.history['accuracy'].append(logs.get('accuracy'))\n",
        "        self.history['val_accuracy'].append(logs.get('val_accuracy'))\n",
        "        self.history['loss'].append(logs.get('loss'))\n",
        "        self.history['val_loss'].append(logs.get('val_loss'))\n",
        "\n",
        "        # Clear previous output\n",
        "        clear_output(wait=True)\n",
        "\n",
        "        # Plot training and validation accuracy\n",
        "        plt.figure(figsize=(12, 5))\n",
        "\n",
        "        plt.subplot(1, 2, 1)\n",
        "        plt.plot(self.history['accuracy'], label='Training Accuracy')\n",
        "        plt.plot(self.history['val_accuracy'], label='Validation Accuracy')\n",
        "        plt.title('Accuracy over Epochs')\n",
        "        plt.xlabel('Epochs')\n",
        "        plt.ylabel('Accuracy')\n",
        "        plt.legend()\n",
        "\n",
        "        # Plot training and validation loss\n",
        "        plt.subplot(1, 2, 2)\n",
        "        plt.plot(self.history['loss'], label='Training Loss')\n",
        "        plt.plot(self.history['val_loss'], label='Validation Loss')\n",
        "        plt.title('Loss over Epochs')\n",
        "        plt.xlabel('Epochs')\n",
        "        plt.ylabel('Loss')\n",
        "        plt.legend()\n",
        "\n",
        "        plt.show()\n",
        "\n",
        "# Normalization Layer\n",
        "class Normalization(tf.keras.layers.Layer):\n",
        "    def __init__(self, **kwargs):\n",
        "        super(Normalization, self).__init__(**kwargs)\n",
        "\n",
        "    def call(self, input):\n",
        "        shape = tf.shape(input)\n",
        "        out = tf.nn.l2_normalize(tf.reshape(input, (-1, 2)), axis=-1, epsilon=1e-5)\n",
        "        out = tf.reshape(out, (-1,2*N))\n",
        "        print(\" Normalize each input power to 1,shape \",out.shape)\n",
        "        return out\n",
        "\n",
        "    def get_config(self):\n",
        "        return super(Normalization, self).get_config()\n",
        "\n",
        "# Custom Noise Layer\n",
        "class CustomNoise(tf.keras.layers.Layer):\n",
        "    def __init__(self, mean=0.0, stddev=10**(-1.0*Eb_No), **kwargs):\n",
        "        super(CustomNoise, self).__init__(**kwargs)\n",
        "        self.mean = mean\n",
        "        self.stddev = stddev\n",
        "\n",
        "    def call(self, inputs):\n",
        "        noise = tf.random.normal(shape=tf.shape(inputs), mean=self.mean, stddev=self.stddev)\n",
        "        return inputs + noise\n",
        "\n",
        "import tensorflow as tf\n",
        "from tensorflow.keras.layers import Layer\n",
        "\n",
        "class AE:\n",
        "    def __init__(self, train_data=train_dataset, test_data=test_dataset, input_dim=K, enc_dim=N, act_fun='tanh'):\n",
        "        self.train_data = train_data\n",
        "        self.test_data = test_data\n",
        "        self.input_dim = input_dim\n",
        "        self.enc_dim = enc_dim\n",
        "        self.act_fun = act_fun\n",
        "\n",
        "    def AE_implement(self):\n",
        "        autoencoder = Sequential([\n",
        "            Dense(2**(self.input_dim), activation=self.act_fun, name=\"Input\"),\n",
        "            Dense(2**(self.input_dim), activation=self.act_fun, name=\"encoder\"),\n",
        "            Dense(2**(self.input_dim), activation=self.act_fun, name=\"middle1\"),\n",
        "            Dense(self.enc_dim * 2, activation=self.act_fun, name='middle2'),\n",
        "\n",
        "            # Normalization Layer\n",
        "            Normalization(name = 'normalization'),\n",
        "\n",
        "            # Channel Layer\n",
        "            StochasticChannelv3_cts_tr(name = 'stc'),\n",
        "            # NormalizedRRCFilterLayer( ),\n",
        "            CustomNoise(name = 'noise'),\n",
        "            SD(name = 'sd'),\n",
        "            # CustomNoise(\n",
        "\n",
        "            # Decoder layers\n",
        "            Dense(self.enc_dim * 4, activation=self.act_fun, name=\"decoder1\"),\n",
        "            Dense(2**(self.input_dim), activation=self.act_fun, name='decoder2'),\n",
        "            Dense(2**(self.input_dim), activation='softmax', name='Output')\n",
        "        ])\n",
        "\n",
        "        autoencoder.compile(optimizer=Adam(learning_rate=1e-2), loss='categorical_crossentropy',metrics=['accuracy'])\n",
        "        return autoencoder\n",
        "\n",
        "    def train(self, epochs=20, batch_size=64):\n",
        "        autoencoder = self.AE_implement()\n",
        "        # autoencoder.fit(self.train_data, self.train_data,\n",
        "        #                 epochs=epochs, batch_size=batch_size,\n",
        "        #                 validation_data=(self.test_data, self.test_data))\n",
        "        # # return autoencoder\n",
        "\n",
        "        # TensorBoard setup\n",
        "        log_dir = \"logs/fit/\" + datetime.datetime.now().strftime(\"%Y%m%d-%H%M%S\")\n",
        "        tensorboard_callback = TensorBoard(log_dir=log_dir, histogram_freq=1)\n",
        "        print(self.test_data.shape)\n",
        "\n",
        "        history = autoencoder.fit(self.train_data, self.train_data,\n",
        "                                  epochs=epochs, batch_size=(2*l+1)*16,\n",
        "                                  validation_data=(self.test_data, self.test_data),\n",
        "                                  callbacks=[PlottingCallback(), tensorboard_callback])\n",
        "        return autoencoder, history\n",
        "\n",
        "# Instantiate the AE class and train the model\n",
        "ae = AE(train_data=train_dataset[:], test_data=test_dataset[:16*13], input_dim=K, enc_dim=N, act_fun='relu')\n",
        "autoencoder_model = ae.train(epochs=10, batch_size=(2*l+1))\n"
      ]
    },
    {
      "cell_type": "markdown",
      "source": [
        "## view in tensor board"
      ],
      "metadata": {
        "id": "6HkINgkaCq6z"
      }
    },
    {
      "cell_type": "code",
      "execution_count": null,
      "metadata": {
        "collapsed": true,
        "id": "C58NhxRBM7fj",
        "colab": {
          "base_uri": "https://localhost:8080/",
          "height": 373
        },
        "outputId": "3a010709-8fc1-4cc1-ca75-be707111408e"
      },
      "outputs": [
        {
          "output_type": "stream",
          "name": "stdout",
          "text": [
            "The tensorboard extension is already loaded. To reload it, use:\n",
            "  %reload_ext tensorboard\n"
          ]
        },
        {
          "output_type": "display_data",
          "data": {
            "text/plain": [
              "Launching TensorBoard..."
            ]
          },
          "metadata": {}
        },
        {
          "output_type": "error",
          "ename": "KeyboardInterrupt",
          "evalue": "",
          "traceback": [
            "\u001b[0;31m---------------------------------------------------------------------------\u001b[0m",
            "\u001b[0;31mKeyboardInterrupt\u001b[0m                         Traceback (most recent call last)",
            "\u001b[0;32m<ipython-input-10-a1cbdb6ec71a>\u001b[0m in \u001b[0;36m<cell line: 3>\u001b[0;34m()\u001b[0m\n\u001b[1;32m      1\u001b[0m \u001b[0mget_ipython\u001b[0m\u001b[0;34m(\u001b[0m\u001b[0;34m)\u001b[0m\u001b[0;34m.\u001b[0m\u001b[0mrun_line_magic\u001b[0m\u001b[0;34m(\u001b[0m\u001b[0;34m'reload_ext'\u001b[0m\u001b[0;34m,\u001b[0m \u001b[0;34m'tensorboard'\u001b[0m\u001b[0;34m)\u001b[0m\u001b[0;34m\u001b[0m\u001b[0;34m\u001b[0m\u001b[0m\n\u001b[1;32m      2\u001b[0m \u001b[0mget_ipython\u001b[0m\u001b[0;34m(\u001b[0m\u001b[0;34m)\u001b[0m\u001b[0;34m.\u001b[0m\u001b[0mrun_line_magic\u001b[0m\u001b[0;34m(\u001b[0m\u001b[0;34m'load_ext'\u001b[0m\u001b[0;34m,\u001b[0m \u001b[0;34m'tensorboard'\u001b[0m\u001b[0;34m)\u001b[0m\u001b[0;34m\u001b[0m\u001b[0;34m\u001b[0m\u001b[0m\n\u001b[0;32m----> 3\u001b[0;31m \u001b[0mget_ipython\u001b[0m\u001b[0;34m(\u001b[0m\u001b[0;34m)\u001b[0m\u001b[0;34m.\u001b[0m\u001b[0mrun_line_magic\u001b[0m\u001b[0;34m(\u001b[0m\u001b[0;34m'tensorboard'\u001b[0m\u001b[0;34m,\u001b[0m \u001b[0;34m'--logdir logs/fit'\u001b[0m\u001b[0;34m)\u001b[0m\u001b[0;34m\u001b[0m\u001b[0;34m\u001b[0m\u001b[0m\n\u001b[0m",
            "\u001b[0;32m/usr/local/lib/python3.10/dist-packages/IPython/core/interactiveshell.py\u001b[0m in \u001b[0;36mrun_line_magic\u001b[0;34m(self, magic_name, line, _stack_depth)\u001b[0m\n\u001b[1;32m   2416\u001b[0m                 \u001b[0mkwargs\u001b[0m\u001b[0;34m[\u001b[0m\u001b[0;34m'local_ns'\u001b[0m\u001b[0;34m]\u001b[0m \u001b[0;34m=\u001b[0m \u001b[0mself\u001b[0m\u001b[0;34m.\u001b[0m\u001b[0mget_local_scope\u001b[0m\u001b[0;34m(\u001b[0m\u001b[0mstack_depth\u001b[0m\u001b[0;34m)\u001b[0m\u001b[0;34m\u001b[0m\u001b[0;34m\u001b[0m\u001b[0m\n\u001b[1;32m   2417\u001b[0m             \u001b[0;32mwith\u001b[0m \u001b[0mself\u001b[0m\u001b[0;34m.\u001b[0m\u001b[0mbuiltin_trap\u001b[0m\u001b[0;34m:\u001b[0m\u001b[0;34m\u001b[0m\u001b[0;34m\u001b[0m\u001b[0m\n\u001b[0;32m-> 2418\u001b[0;31m                 \u001b[0mresult\u001b[0m \u001b[0;34m=\u001b[0m \u001b[0mfn\u001b[0m\u001b[0;34m(\u001b[0m\u001b[0;34m*\u001b[0m\u001b[0margs\u001b[0m\u001b[0;34m,\u001b[0m \u001b[0;34m**\u001b[0m\u001b[0mkwargs\u001b[0m\u001b[0;34m)\u001b[0m\u001b[0;34m\u001b[0m\u001b[0;34m\u001b[0m\u001b[0m\n\u001b[0m\u001b[1;32m   2419\u001b[0m             \u001b[0;32mreturn\u001b[0m \u001b[0mresult\u001b[0m\u001b[0;34m\u001b[0m\u001b[0;34m\u001b[0m\u001b[0m\n\u001b[1;32m   2420\u001b[0m \u001b[0;34m\u001b[0m\u001b[0m\n",
            "\u001b[0;32m/usr/local/lib/python3.10/dist-packages/tensorboard/notebook.py\u001b[0m in \u001b[0;36m_start_magic\u001b[0;34m(line)\u001b[0m\n\u001b[1;32m    115\u001b[0m \u001b[0;32mdef\u001b[0m \u001b[0m_start_magic\u001b[0m\u001b[0;34m(\u001b[0m\u001b[0mline\u001b[0m\u001b[0;34m)\u001b[0m\u001b[0;34m:\u001b[0m\u001b[0;34m\u001b[0m\u001b[0;34m\u001b[0m\u001b[0m\n\u001b[1;32m    116\u001b[0m     \u001b[0;34m\"\"\"Implementation of the `%tensorboard` line magic.\"\"\"\u001b[0m\u001b[0;34m\u001b[0m\u001b[0;34m\u001b[0m\u001b[0m\n\u001b[0;32m--> 117\u001b[0;31m     \u001b[0;32mreturn\u001b[0m \u001b[0mstart\u001b[0m\u001b[0;34m(\u001b[0m\u001b[0mline\u001b[0m\u001b[0;34m)\u001b[0m\u001b[0;34m\u001b[0m\u001b[0;34m\u001b[0m\u001b[0m\n\u001b[0m\u001b[1;32m    118\u001b[0m \u001b[0;34m\u001b[0m\u001b[0m\n\u001b[1;32m    119\u001b[0m \u001b[0;34m\u001b[0m\u001b[0m\n",
            "\u001b[0;32m/usr/local/lib/python3.10/dist-packages/tensorboard/notebook.py\u001b[0m in \u001b[0;36mstart\u001b[0;34m(args_string)\u001b[0m\n\u001b[1;32m    150\u001b[0m \u001b[0;34m\u001b[0m\u001b[0m\n\u001b[1;32m    151\u001b[0m     \u001b[0mparsed_args\u001b[0m \u001b[0;34m=\u001b[0m \u001b[0mshlex\u001b[0m\u001b[0;34m.\u001b[0m\u001b[0msplit\u001b[0m\u001b[0;34m(\u001b[0m\u001b[0margs_string\u001b[0m\u001b[0;34m,\u001b[0m \u001b[0mcomments\u001b[0m\u001b[0;34m=\u001b[0m\u001b[0;32mTrue\u001b[0m\u001b[0;34m,\u001b[0m \u001b[0mposix\u001b[0m\u001b[0;34m=\u001b[0m\u001b[0;32mTrue\u001b[0m\u001b[0;34m)\u001b[0m\u001b[0;34m\u001b[0m\u001b[0;34m\u001b[0m\u001b[0m\n\u001b[0;32m--> 152\u001b[0;31m     \u001b[0mstart_result\u001b[0m \u001b[0;34m=\u001b[0m \u001b[0mmanager\u001b[0m\u001b[0;34m.\u001b[0m\u001b[0mstart\u001b[0m\u001b[0;34m(\u001b[0m\u001b[0mparsed_args\u001b[0m\u001b[0;34m)\u001b[0m\u001b[0;34m\u001b[0m\u001b[0;34m\u001b[0m\u001b[0m\n\u001b[0m\u001b[1;32m    153\u001b[0m \u001b[0;34m\u001b[0m\u001b[0m\n\u001b[1;32m    154\u001b[0m     \u001b[0;32mif\u001b[0m \u001b[0misinstance\u001b[0m\u001b[0;34m(\u001b[0m\u001b[0mstart_result\u001b[0m\u001b[0;34m,\u001b[0m \u001b[0mmanager\u001b[0m\u001b[0;34m.\u001b[0m\u001b[0mStartLaunched\u001b[0m\u001b[0;34m)\u001b[0m\u001b[0;34m:\u001b[0m\u001b[0;34m\u001b[0m\u001b[0;34m\u001b[0m\u001b[0m\n",
            "\u001b[0;32m/usr/local/lib/python3.10/dist-packages/tensorboard/manager.py\u001b[0m in \u001b[0;36mstart\u001b[0;34m(arguments, timeout)\u001b[0m\n\u001b[1;32m    440\u001b[0m     \u001b[0mend_time_seconds\u001b[0m \u001b[0;34m=\u001b[0m \u001b[0mstart_time_seconds\u001b[0m \u001b[0;34m+\u001b[0m \u001b[0mtimeout\u001b[0m\u001b[0;34m.\u001b[0m\u001b[0mtotal_seconds\u001b[0m\u001b[0;34m(\u001b[0m\u001b[0;34m)\u001b[0m\u001b[0;34m\u001b[0m\u001b[0;34m\u001b[0m\u001b[0m\n\u001b[1;32m    441\u001b[0m     \u001b[0;32mwhile\u001b[0m \u001b[0mtime\u001b[0m\u001b[0;34m.\u001b[0m\u001b[0mtime\u001b[0m\u001b[0;34m(\u001b[0m\u001b[0;34m)\u001b[0m \u001b[0;34m<\u001b[0m \u001b[0mend_time_seconds\u001b[0m\u001b[0;34m:\u001b[0m\u001b[0;34m\u001b[0m\u001b[0;34m\u001b[0m\u001b[0m\n\u001b[0;32m--> 442\u001b[0;31m         \u001b[0mtime\u001b[0m\u001b[0;34m.\u001b[0m\u001b[0msleep\u001b[0m\u001b[0;34m(\u001b[0m\u001b[0mpoll_interval_seconds\u001b[0m\u001b[0;34m)\u001b[0m\u001b[0;34m\u001b[0m\u001b[0;34m\u001b[0m\u001b[0m\n\u001b[0m\u001b[1;32m    443\u001b[0m         \u001b[0msubprocess_result\u001b[0m \u001b[0;34m=\u001b[0m \u001b[0mp\u001b[0m\u001b[0;34m.\u001b[0m\u001b[0mpoll\u001b[0m\u001b[0;34m(\u001b[0m\u001b[0;34m)\u001b[0m\u001b[0;34m\u001b[0m\u001b[0;34m\u001b[0m\u001b[0m\n\u001b[1;32m    444\u001b[0m         \u001b[0;32mif\u001b[0m \u001b[0msubprocess_result\u001b[0m \u001b[0;32mis\u001b[0m \u001b[0;32mnot\u001b[0m \u001b[0;32mNone\u001b[0m\u001b[0;34m:\u001b[0m\u001b[0;34m\u001b[0m\u001b[0;34m\u001b[0m\u001b[0m\n",
            "\u001b[0;31mKeyboardInterrupt\u001b[0m: "
          ]
        }
      ],
      "source": [
        "%reload_ext tensorboard\n",
        "%load_ext tensorboard\n",
        "%tensorboard --logdir logs/fit"
      ]
    },
    {
      "cell_type": "markdown",
      "source": [
        "## plots of the output"
      ],
      "metadata": {
        "id": "VLVEG6WuCt0B"
      }
    },
    {
      "cell_type": "code",
      "source": [
        "import matplotlib.pyplot as plt\n",
        "import numpy as np\n",
        "\n",
        "# Assuming you have your input and output from the autoencoder\n",
        "# Example:\n",
        "# input_data = your_input_data   # Shape (156, 16)\n",
        "# output_data = autoencoder.predict(your_input_data)  # Shape (156, 16)\n",
        "\n",
        "def plot_autoencoder_performance(input_data, output_data, num_samples=5):\n",
        "    # Ensure the number of samples to plot does not exceed the number of available samples\n",
        "    num_samples = min(num_samples, input_data.shape[0])\n",
        "\n",
        "    # Create subplots\n",
        "    fig, axs = plt.subplots(num_samples, 2, figsize=(10, num_samples * 3))\n",
        "    fig.suptitle('Autoencoder Input vs Output', fontsize=16)\n",
        "\n",
        "    for i in range(num_samples):\n",
        "        # Plot input data (original data)\n",
        "        axs[i, 0].plot(input_data[i], color='blue')\n",
        "        axs[i, 0].set_title(f\"Input {i+1}\")\n",
        "\n",
        "        # Plot output data (reconstructed data)\n",
        "        axs[i, 1].plot(output_data[i], color='red')\n",
        "        axs[i, 1].set_title(f\"Output {i+1}\")\n",
        "\n",
        "        # Adding labels\n",
        "        axs[i, 0].set_ylabel('Amplitude')\n",
        "        axs[i, 1].set_ylabel('Amplitude')\n",
        "\n",
        "    # Adding x-axis labels\n",
        "    axs[-1, 0].set_xlabel('Feature Index')\n",
        "    axs[-1, 1].set_xlabel('Feature Index')\n",
        "\n",
        "    plt.tight_layout()\n",
        "    plt.subplots_adjust(top=0.93)  # Adjust for title\n",
        "    plt.show()\n",
        "\n",
        "\n"
      ],
      "metadata": {
        "id": "QGpZ0TnUsPa2",
        "colab": {
          "base_uri": "https://localhost:8080/",
          "height": 176
        },
        "outputId": "70d87c99-a823-4343-d474-e5bb4ef73664"
      },
      "execution_count": null,
      "outputs": [
        {
          "output_type": "error",
          "ename": "NameError",
          "evalue": "name 'test_dataset' is not defined",
          "traceback": [
            "\u001b[0;31m---------------------------------------------------------------------------\u001b[0m",
            "\u001b[0;31mNameError\u001b[0m                                 Traceback (most recent call last)",
            "\u001b[0;32m<ipython-input-4-2bc90ae9c762>\u001b[0m in \u001b[0;36m<cell line: 39>\u001b[0;34m()\u001b[0m\n\u001b[1;32m     37\u001b[0m \u001b[0;34m\u001b[0m\u001b[0m\n\u001b[1;32m     38\u001b[0m \u001b[0;31m# Call the plotting function with input and output data\u001b[0m\u001b[0;34m\u001b[0m\u001b[0;34m\u001b[0m\u001b[0m\n\u001b[0;32m---> 39\u001b[0;31m \u001b[0mplot_autoencoder_performance\u001b[0m\u001b[0;34m(\u001b[0m\u001b[0mtest_dataset\u001b[0m\u001b[0;34m[\u001b[0m\u001b[0;34m:\u001b[0m\u001b[0;36m12\u001b[0m\u001b[0;34m*\u001b[0m\u001b[0;36m13\u001b[0m\u001b[0;34m]\u001b[0m\u001b[0;34m,\u001b[0m \u001b[0moutput\u001b[0m\u001b[0;34m,\u001b[0m \u001b[0mnum_samples\u001b[0m\u001b[0;34m=\u001b[0m\u001b[0;36m5\u001b[0m\u001b[0;34m)\u001b[0m  \u001b[0;31m# Adjust num_samples as needed\u001b[0m\u001b[0;34m\u001b[0m\u001b[0;34m\u001b[0m\u001b[0m\n\u001b[0m",
            "\u001b[0;31mNameError\u001b[0m: name 'test_dataset' is not defined"
          ]
        }
      ]
    },
    {
      "cell_type": "markdown",
      "source": [
        "## plots of constellations for output"
      ],
      "metadata": {
        "id": "kshIKuo6C0LO"
      }
    },
    {
      "cell_type": "code",
      "source": [
        "import matplotlib.pyplot as plt\n",
        "import numpy as np\n",
        "\n",
        "# Assuming you have your input and output from the autoencoder\n",
        "# Example:\n",
        "# input_data = your_input_data   # Shape (156, 16)\n",
        "# output_data = autoencoder.predict(your_input_data)  # Shape (156, 16)\n",
        "\n",
        "def plot_constellation(input_data, output_data, num_samples=5):\n",
        "    # Ensure the number of samples to plot does not exceed the number of available samples\n",
        "    num_samples = min(num_samples, input_data.shape[0])\n",
        "\n",
        "    # Create subplots for constellation\n",
        "    fig, axs = plt.subplots(num_samples, 2, figsize=(10, num_samples * 5))\n",
        "    fig.suptitle('Autoencoder Input vs Output Constellation', fontsize=16)\n",
        "\n",
        "    for i in range(num_samples):\n",
        "        # Extract real and imaginary parts for input and output\n",
        "        input_real = input_data[i, ::2]   # Real parts from even indices\n",
        "        input_imag = input_data[i, 1::2]  # Imaginary parts from odd indices\n",
        "        output_real = output_data[i, ::2]  # Real parts from even indices\n",
        "        output_imag = output_data[i, 1::2]  # Imaginary parts from odd indices\n",
        "\n",
        "        # Plot input constellation\n",
        "        axs[i, 0].scatter(input_real, input_imag, color='blue', s=50, label='Input')\n",
        "        axs[i, 0].set_title(f\"Input Constellation {i+1}\")\n",
        "        axs[i, 0].set_xlabel('Real')\n",
        "        axs[i, 0].set_ylabel('Imaginary')\n",
        "        axs[i, 0].grid(True)\n",
        "\n",
        "        # Plot output constellation\n",
        "        axs[i, 1].scatter(output_real, output_imag, color='red', s=50, label='Output')\n",
        "        axs[i, 1].set_title(f\"Output Constellation {i+1}\")\n",
        "        axs[i, 1].set_xlabel('Real')\n",
        "        axs[i, 1].set_ylabel('Imaginary')\n",
        "        axs[i, 1].grid(True)\n",
        "\n",
        "    plt.tight_layout()\n",
        "    plt.subplots_adjust(top=0.93)  # Adjust for title\n",
        "    plt.show()\n",
        "\n",
        "\n"
      ],
      "metadata": {
        "id": "MrS89pPetyio"
      },
      "execution_count": null,
      "outputs": []
    },
    {
      "cell_type": "code",
      "execution_count": null,
      "metadata": {
        "collapsed": true,
        "id": "Bi-wtO_zO7bW",
        "colab": {
          "base_uri": "https://localhost:8080/",
          "height": 465
        },
        "outputId": "5ee2ba9b-7684-43de-fd96-46f3346b45e2"
      },
      "outputs": [
        {
          "output_type": "display_data",
          "data": {
            "text/plain": [
              "\u001b[1mModel: \"sequential\"\u001b[0m\n"
            ],
            "text/html": [
              "<pre style=\"white-space:pre;overflow-x:auto;line-height:normal;font-family:Menlo,'DejaVu Sans Mono',consolas,'Courier New',monospace\"><span style=\"font-weight: bold\">Model: \"sequential\"</span>\n",
              "</pre>\n"
            ]
          },
          "metadata": {}
        },
        {
          "output_type": "display_data",
          "data": {
            "text/plain": [
              "┏━━━━━━━━━━━━━━━━━━━━━━━━━━━━━━━━━━━━━━┳━━━━━━━━━━━━━━━━━━━━━━━━━━━━━┳━━━━━━━━━━━━━━━━━┓\n",
              "┃\u001b[1m \u001b[0m\u001b[1mLayer (type)                        \u001b[0m\u001b[1m \u001b[0m┃\u001b[1m \u001b[0m\u001b[1mOutput Shape               \u001b[0m\u001b[1m \u001b[0m┃\u001b[1m \u001b[0m\u001b[1m        Param #\u001b[0m\u001b[1m \u001b[0m┃\n",
              "┡━━━━━━━━━━━━━━━━━━━━━━━━━━━━━━━━━━━━━━╇━━━━━━━━━━━━━━━━━━━━━━━━━━━━━╇━━━━━━━━━━━━━━━━━┩\n",
              "│ Input (\u001b[38;5;33mDense\u001b[0m)                        │ (\u001b[38;5;34m208\u001b[0m, \u001b[38;5;34m16\u001b[0m)                   │             \u001b[38;5;34m272\u001b[0m │\n",
              "├──────────────────────────────────────┼─────────────────────────────┼─────────────────┤\n",
              "│ encoder (\u001b[38;5;33mDense\u001b[0m)                      │ (\u001b[38;5;34m208\u001b[0m, \u001b[38;5;34m16\u001b[0m)                   │             \u001b[38;5;34m272\u001b[0m │\n",
              "├──────────────────────────────────────┼─────────────────────────────┼─────────────────┤\n",
              "│ middle1 (\u001b[38;5;33mDense\u001b[0m)                      │ (\u001b[38;5;34m208\u001b[0m, \u001b[38;5;34m16\u001b[0m)                   │             \u001b[38;5;34m272\u001b[0m │\n",
              "├──────────────────────────────────────┼─────────────────────────────┼─────────────────┤\n",
              "│ middle2 (\u001b[38;5;33mDense\u001b[0m)                      │ (\u001b[38;5;34m208\u001b[0m, \u001b[38;5;34m8\u001b[0m)                    │             \u001b[38;5;34m136\u001b[0m │\n",
              "├──────────────────────────────────────┼─────────────────────────────┼─────────────────┤\n",
              "│ normalization (\u001b[38;5;33mNormalization\u001b[0m)        │ (\u001b[38;5;34m208\u001b[0m, \u001b[38;5;34m8\u001b[0m)                    │               \u001b[38;5;34m0\u001b[0m │\n",
              "├──────────────────────────────────────┼─────────────────────────────┼─────────────────┤\n",
              "│ stc (\u001b[38;5;33mStochasticChannelv3_cts_tr\u001b[0m)     │ (\u001b[38;5;34m208\u001b[0m, \u001b[38;5;34m352\u001b[0m)                  │               \u001b[38;5;34m0\u001b[0m │\n",
              "├──────────────────────────────────────┼─────────────────────────────┼─────────────────┤\n",
              "│ noise (\u001b[38;5;33mCustomNoise\u001b[0m)                  │ (\u001b[38;5;34m208\u001b[0m, \u001b[38;5;34m352\u001b[0m)                  │               \u001b[38;5;34m0\u001b[0m │\n",
              "├──────────────────────────────────────┼─────────────────────────────┼─────────────────┤\n",
              "│ decoder1 (\u001b[38;5;33mDense\u001b[0m)                     │ (\u001b[38;5;34m208\u001b[0m, \u001b[38;5;34m16\u001b[0m)                   │           \u001b[38;5;34m5,648\u001b[0m │\n",
              "├──────────────────────────────────────┼─────────────────────────────┼─────────────────┤\n",
              "│ decoder2 (\u001b[38;5;33mDense\u001b[0m)                     │ (\u001b[38;5;34m208\u001b[0m, \u001b[38;5;34m16\u001b[0m)                   │             \u001b[38;5;34m272\u001b[0m │\n",
              "├──────────────────────────────────────┼─────────────────────────────┼─────────────────┤\n",
              "│ Output (\u001b[38;5;33mDense\u001b[0m)                       │ (\u001b[38;5;34m208\u001b[0m, \u001b[38;5;34m16\u001b[0m)                   │             \u001b[38;5;34m272\u001b[0m │\n",
              "└──────────────────────────────────────┴─────────────────────────────┴─────────────────┘\n"
            ],
            "text/html": [
              "<pre style=\"white-space:pre;overflow-x:auto;line-height:normal;font-family:Menlo,'DejaVu Sans Mono',consolas,'Courier New',monospace\">┏━━━━━━━━━━━━━━━━━━━━━━━━━━━━━━━━━━━━━━┳━━━━━━━━━━━━━━━━━━━━━━━━━━━━━┳━━━━━━━━━━━━━━━━━┓\n",
              "┃<span style=\"font-weight: bold\"> Layer (type)                         </span>┃<span style=\"font-weight: bold\"> Output Shape                </span>┃<span style=\"font-weight: bold\">         Param # </span>┃\n",
              "┡━━━━━━━━━━━━━━━━━━━━━━━━━━━━━━━━━━━━━━╇━━━━━━━━━━━━━━━━━━━━━━━━━━━━━╇━━━━━━━━━━━━━━━━━┩\n",
              "│ Input (<span style=\"color: #0087ff; text-decoration-color: #0087ff\">Dense</span>)                        │ (<span style=\"color: #00af00; text-decoration-color: #00af00\">208</span>, <span style=\"color: #00af00; text-decoration-color: #00af00\">16</span>)                   │             <span style=\"color: #00af00; text-decoration-color: #00af00\">272</span> │\n",
              "├──────────────────────────────────────┼─────────────────────────────┼─────────────────┤\n",
              "│ encoder (<span style=\"color: #0087ff; text-decoration-color: #0087ff\">Dense</span>)                      │ (<span style=\"color: #00af00; text-decoration-color: #00af00\">208</span>, <span style=\"color: #00af00; text-decoration-color: #00af00\">16</span>)                   │             <span style=\"color: #00af00; text-decoration-color: #00af00\">272</span> │\n",
              "├──────────────────────────────────────┼─────────────────────────────┼─────────────────┤\n",
              "│ middle1 (<span style=\"color: #0087ff; text-decoration-color: #0087ff\">Dense</span>)                      │ (<span style=\"color: #00af00; text-decoration-color: #00af00\">208</span>, <span style=\"color: #00af00; text-decoration-color: #00af00\">16</span>)                   │             <span style=\"color: #00af00; text-decoration-color: #00af00\">272</span> │\n",
              "├──────────────────────────────────────┼─────────────────────────────┼─────────────────┤\n",
              "│ middle2 (<span style=\"color: #0087ff; text-decoration-color: #0087ff\">Dense</span>)                      │ (<span style=\"color: #00af00; text-decoration-color: #00af00\">208</span>, <span style=\"color: #00af00; text-decoration-color: #00af00\">8</span>)                    │             <span style=\"color: #00af00; text-decoration-color: #00af00\">136</span> │\n",
              "├──────────────────────────────────────┼─────────────────────────────┼─────────────────┤\n",
              "│ normalization (<span style=\"color: #0087ff; text-decoration-color: #0087ff\">Normalization</span>)        │ (<span style=\"color: #00af00; text-decoration-color: #00af00\">208</span>, <span style=\"color: #00af00; text-decoration-color: #00af00\">8</span>)                    │               <span style=\"color: #00af00; text-decoration-color: #00af00\">0</span> │\n",
              "├──────────────────────────────────────┼─────────────────────────────┼─────────────────┤\n",
              "│ stc (<span style=\"color: #0087ff; text-decoration-color: #0087ff\">StochasticChannelv3_cts_tr</span>)     │ (<span style=\"color: #00af00; text-decoration-color: #00af00\">208</span>, <span style=\"color: #00af00; text-decoration-color: #00af00\">352</span>)                  │               <span style=\"color: #00af00; text-decoration-color: #00af00\">0</span> │\n",
              "├──────────────────────────────────────┼─────────────────────────────┼─────────────────┤\n",
              "│ noise (<span style=\"color: #0087ff; text-decoration-color: #0087ff\">CustomNoise</span>)                  │ (<span style=\"color: #00af00; text-decoration-color: #00af00\">208</span>, <span style=\"color: #00af00; text-decoration-color: #00af00\">352</span>)                  │               <span style=\"color: #00af00; text-decoration-color: #00af00\">0</span> │\n",
              "├──────────────────────────────────────┼─────────────────────────────┼─────────────────┤\n",
              "│ decoder1 (<span style=\"color: #0087ff; text-decoration-color: #0087ff\">Dense</span>)                     │ (<span style=\"color: #00af00; text-decoration-color: #00af00\">208</span>, <span style=\"color: #00af00; text-decoration-color: #00af00\">16</span>)                   │           <span style=\"color: #00af00; text-decoration-color: #00af00\">5,648</span> │\n",
              "├──────────────────────────────────────┼─────────────────────────────┼─────────────────┤\n",
              "│ decoder2 (<span style=\"color: #0087ff; text-decoration-color: #0087ff\">Dense</span>)                     │ (<span style=\"color: #00af00; text-decoration-color: #00af00\">208</span>, <span style=\"color: #00af00; text-decoration-color: #00af00\">16</span>)                   │             <span style=\"color: #00af00; text-decoration-color: #00af00\">272</span> │\n",
              "├──────────────────────────────────────┼─────────────────────────────┼─────────────────┤\n",
              "│ Output (<span style=\"color: #0087ff; text-decoration-color: #0087ff\">Dense</span>)                       │ (<span style=\"color: #00af00; text-decoration-color: #00af00\">208</span>, <span style=\"color: #00af00; text-decoration-color: #00af00\">16</span>)                   │             <span style=\"color: #00af00; text-decoration-color: #00af00\">272</span> │\n",
              "└──────────────────────────────────────┴─────────────────────────────┴─────────────────┘\n",
              "</pre>\n"
            ]
          },
          "metadata": {}
        },
        {
          "output_type": "display_data",
          "data": {
            "text/plain": [
              "\u001b[1m Total params: \u001b[0m\u001b[38;5;34m21,434\u001b[0m (83.73 KB)\n"
            ],
            "text/html": [
              "<pre style=\"white-space:pre;overflow-x:auto;line-height:normal;font-family:Menlo,'DejaVu Sans Mono',consolas,'Courier New',monospace\"><span style=\"font-weight: bold\"> Total params: </span><span style=\"color: #00af00; text-decoration-color: #00af00\">21,434</span> (83.73 KB)\n",
              "</pre>\n"
            ]
          },
          "metadata": {}
        },
        {
          "output_type": "display_data",
          "data": {
            "text/plain": [
              "\u001b[1m Trainable params: \u001b[0m\u001b[38;5;34m7,144\u001b[0m (27.91 KB)\n"
            ],
            "text/html": [
              "<pre style=\"white-space:pre;overflow-x:auto;line-height:normal;font-family:Menlo,'DejaVu Sans Mono',consolas,'Courier New',monospace\"><span style=\"font-weight: bold\"> Trainable params: </span><span style=\"color: #00af00; text-decoration-color: #00af00\">7,144</span> (27.91 KB)\n",
              "</pre>\n"
            ]
          },
          "metadata": {}
        },
        {
          "output_type": "display_data",
          "data": {
            "text/plain": [
              "\u001b[1m Non-trainable params: \u001b[0m\u001b[38;5;34m0\u001b[0m (0.00 B)\n"
            ],
            "text/html": [
              "<pre style=\"white-space:pre;overflow-x:auto;line-height:normal;font-family:Menlo,'DejaVu Sans Mono',consolas,'Courier New',monospace\"><span style=\"font-weight: bold\"> Non-trainable params: </span><span style=\"color: #00af00; text-decoration-color: #00af00\">0</span> (0.00 B)\n",
              "</pre>\n"
            ]
          },
          "metadata": {}
        },
        {
          "output_type": "display_data",
          "data": {
            "text/plain": [
              "\u001b[1m Optimizer params: \u001b[0m\u001b[38;5;34m14,290\u001b[0m (55.82 KB)\n"
            ],
            "text/html": [
              "<pre style=\"white-space:pre;overflow-x:auto;line-height:normal;font-family:Menlo,'DejaVu Sans Mono',consolas,'Courier New',monospace\"><span style=\"font-weight: bold\"> Optimizer params: </span><span style=\"color: #00af00; text-decoration-color: #00af00\">14,290</span> (55.82 KB)\n",
              "</pre>\n"
            ]
          },
          "metadata": {}
        }
      ],
      "source": [
        "autoencoder_model[0].summary()"
      ]
    }
  ]
}